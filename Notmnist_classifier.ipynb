{
 "cells": [
  {
   Text Edit
   "cell_type": "code",
   "execution_count": 313,
   "metadata": {},
   "outputs": [],
   "source": [
    "from __future__ import print_function\n",
    "import imageio\n",
    "import matplotlib.pyplot as plt\n",
    "import numpy as np\n",
    "import os\n",
    "import sys\n",
    "import tarfile\n",
    "from IPython.display import display, Image\n",
    "from sklearn.linear_model import LogisticRegression\n",
    "from six.moves.urllib.request import urlretrieve\n",
    "from six.moves import cPickle as pickle\n",
    "\n",
    "# Config the matplotlib backend as plotting inline in IPython\n",
    "%matplotlib inline"
   ]
  },
  {
   "cell_type": "code",
   "execution_count": 314,
   "metadata": {},
   "outputs": [
    {
     "name": "stdout",
     "output_type": "stream",
     "text": [
      "Found and verified .\\notMNIST_large.tar.gz\n",
      "Found and verified .\\notMNIST_small.tar.gz\n"
     ]
    }
   ],
   "source": [
    "url = 'https://commondatastorage.googleapis.com/books1000/'\n",
    "last_percent_reported = None\n",
    "data_root = '.' # Change me to store data elsewhere\n",
    "\n",
    "def download_progress_hook(count, blockSize, totalSize):\n",
    "  \"\"\"A hook to report the progress of a download. This is mostly intended for users with\n",
    "  slow internet connections. Reports every 5% change in download progress.\n",
    "  \"\"\"\n",
    "  global last_percent_reported\n",
    "  percent = int(count * blockSize * 100 / totalSize)\n",
    "\n",
    "  if last_percent_reported != percent:\n",
    "    if percent % 5 == 0:\n",
    "      sys.stdout.write(\"%s%%\" % percent)\n",
    "      sys.stdout.flush()\n",
    "    else:\n",
    "      sys.stdout.write(\".\")\n",
    "      sys.stdout.flush()\n",
    "      \n",
    "    last_percent_reported = percent\n",
    "        \n",
    "def maybe_download(filename, expected_bytes, force=False):\n",
    "  \"\"\"Download a file if not present, and make sure it's the right size.\"\"\"\n",
    "  dest_filename = os.path.join(data_root, filename)\n",
    "  if force or not os.path.exists(dest_filename):\n",
    "    print('Attempting to download:', filename) \n",
    "    filename, _ = urlretrieve(url + filename, dest_filename, reporthook=download_progress_hook)\n",
    "    print('\\nDownload Complete!')\n",
    "  statinfo = os.stat(dest_filename)\n",
    "  if statinfo.st_size == expected_bytes:\n",
    "    print('Found and verified', dest_filename)\n",
    "  else:\n",
    "    raise Exception(\n",
    "      'Failed to verify ' + dest_filename + '. Can you get to it with a browser?')\n",
    "  return dest_filename\n",
    "\n",
    "train_filename = maybe_download('notMNIST_large.tar.gz', 247336696)\n",
    "test_filename = maybe_download('notMNIST_small.tar.gz', 8458043)"
   ]
  },
  {
   "cell_type": "code",
   "execution_count": 315,
   "metadata": {},
   "outputs": [
    {
     "name": "stdout",
     "output_type": "stream",
     "text": [
      ".\\notMNIST_large already present - Skipping extraction of .\\notMNIST_large.tar.gz.\n",
      "['.\\\\notMNIST_large\\\\A', '.\\\\notMNIST_large\\\\B', '.\\\\notMNIST_large\\\\C', '.\\\\notMNIST_large\\\\D', '.\\\\notMNIST_large\\\\E', '.\\\\notMNIST_large\\\\F', '.\\\\notMNIST_large\\\\G', '.\\\\notMNIST_large\\\\H', '.\\\\notMNIST_large\\\\I', '.\\\\notMNIST_large\\\\J']\n",
      ".\\notMNIST_small already present - Skipping extraction of .\\notMNIST_small.tar.gz.\n",
      "['.\\\\notMNIST_small\\\\A', '.\\\\notMNIST_small\\\\B', '.\\\\notMNIST_small\\\\C', '.\\\\notMNIST_small\\\\D', '.\\\\notMNIST_small\\\\E', '.\\\\notMNIST_small\\\\F', '.\\\\notMNIST_small\\\\G', '.\\\\notMNIST_small\\\\H', '.\\\\notMNIST_small\\\\I', '.\\\\notMNIST_small\\\\J']\n"
     ]
    }
   ],
   "source": [
    "num_classes = 10\n",
    "np.random.seed(133)\n",
    "\n",
    "def maybe_extract(filename, force=False):\n",
    "  root = os.path.splitext(os.path.splitext(filename)[0])[0]  # remove .tar.gz\n",
    "  if os.path.isdir(root) and not force:\n",
    "    # You may override by setting force=True.\n",
    "    print('%s already present - Skipping extraction of %s.' % (root, filename))\n",
    "  else:\n",
    "    print('Extracting data for %s. This may take a while. Please wait.' % root)\n",
    "    tar = tarfile.open(filename)\n",
    "    sys.stdout.flush()\n",
    "    tar.extractall(data_root)\n",
    "    tar.close()\n",
    "  data_folders = [\n",
    "    os.path.join(root, d) for d in sorted(os.listdir(root))\n",
    "    if os.path.isdir(os.path.join(root, d))]\n",
    "  if len(data_folders) != num_classes:\n",
    "    raise Exception(\n",
    "      'Expected %d folders, one per class. Found %d instead.' % (\n",
    "        num_classes, len(data_folders)))\n",
    "  print(data_folders)\n",
    "  return data_folders\n",
    "  \n",
    "train_folders = maybe_extract(train_filename)\n",
    "test_folders = maybe_extract(test_filename)"
   ]
  },
  {
   "cell_type": "code",
   "execution_count": 316,
   "metadata": {},
   "outputs": [],
   "source": [
    "import random\n",
    "alphabets_ = ['A', 'B', 'C', 'D', 'E', 'F', 'G', 'H', 'I', 'J']\n",
    "\n",
    "def disp_samples(data_folders, sample_size):\n",
    "  alph_idx = 0\n",
    "  for folder in data_folders:\n",
    "    print(alphabets_[alph_idx])\n",
    "    image_files = os.listdir(folder)\n",
    "    image_sample = random.sample(image_files, sample_size)\n",
    "    alph_idx +=1\n",
    "    for image in image_sample:\n",
    "      image_file = os.path.join(folder, image)\n",
    "      i = Image(filename=image_file)\n",
    "      display(i)\n",
    "    \n",
    "    "
   ]
  },
  {
   "cell_type": "code",
   "execution_count": 317,
   "metadata": {
    "scrolled": true
   },
   "outputs": [
    {
     "name": "stdout",
     "output_type": "stream",
     "text": [
      "A\n"
     ]
    },
    {
     "data": {
      "image/png": "iVBORw0KGgoAAAANSUhEUgAAABwAAAAcCAAAAABXZoBIAAABRUlEQVR4nHXQQStEURQH8P+55z5mI0UxamSaFClEUb6AZqEsZqks2PkCShTZWExJs5JvYGc20jQrNspC2LCiGDYjimK89/4WbybTm+vubr/zP/ecCziO4oCXEBfBYpG8cqPB6Dt57URB4py1f1BRoB+4UbFAn240GKoydKMgcUqfblTs8ZNutMhx7dbd1mDwo+Q9MXCgwJ7VMnhxJi12uIxExZVUzPMQ4rnQIF19TgEuFNESc2hDe6X1TcU2d2GkOWkbw/hz65goWkK6YOIbph/5FbJxmtuKmGOudqaSyb6e/vieFhs8AQSQlmkVWb6NwBpjND6tQeqeK9Fs8aQoijyqFwq8pqSohy2+DkOjQlNvewMVwGApZD4ywGDsmyEDPnRAkJku0Gd5ZrIbIuidyl4wIBkyPz6AO4bRZRaq2OfP3z9s/gI0Z+8n31GIHAAAAABJRU5ErkJggg==\n",
      "text/plain": [
       "<IPython.core.display.Image object>"
      ]
     },
     "metadata": {},
     "output_type": "display_data"
    },
    {
     "data": {
      "image/png": "iVBORw0KGgoAAAANSUhEUgAAABwAAAAcCAAAAABXZoBIAAABwUlEQVR4nG2SPWtUQRiFzzv3riAhBg3BbGFj4weChfiBFlEkhU0KISiiWPkDRBC0sl4LC0F/gJAi0bRRBC2jqGhhTAoFP5qAaDYaYnbvzPtY3LvZjWaqgWfOeefMHMk01Kf+fsmCNllBF75+mpgaU802Yft+487ymPL/aK5btDwW7leV/Wsd9JgIeOReULaBmcI8CcALntQVNgp3LeEAEPk1vkGb6ViHQaR9qpdmukKkS+e3y9ZNTUdF92jce7M71qTZSpkccFb2r9Ogncudme5A5ME6zHSyYv65We78eEWD6ZCSJLQ6crBpSMmudVzRnnI2fTNjb4SU6ewJr6Sa7klSxZmufE3PS+ixtVYURXnjkc5LvCJ1cgAJiMwoSDINz+3AhK28fvtOh1cv1TFh5ybzKKnxswWR6eEyWIMCnMXdCpLuU+BwRHmeZTUNfCBB5FlmpotLOM6PofK5M50nQVrjtjLd4Xsksbi1+gvTLNEdOC1pMrVJfKlVMNMZ2nx7OMfHQekukcTLnmY0WDywZXD86WiuVXlI4YXyWEK361p4P/BnaipIo02n4IbybuWsZrIQTKZtlxeWH9XV0+dOif4Ch1M+zqehoYcAAAAASUVORK5CYII=\n",
      "text/plain": [
       "<IPython.core.display.Image object>"
      ]
     },
     "metadata": {},
     "output_type": "display_data"
    },
    {
     "name": "stdout",
     "output_type": "stream",
     "text": [
      "B\n"
     ]
    },
    {
     "data": {
      "image/png": "iVBORw0KGgoAAAANSUhEUgAAABwAAAAcCAAAAABXZoBIAAAB2klEQVR4nG2Qz0uUYRSFn/u+32gqWWOFRkMRKEHgrh9Q4KpNiYt2EUT4H7SrEBctok2bIIq2BgkF7lsUBpEFEpRBlAuR0sKI0lFnmvnee1qoGTpnceHycO49HJN7CAAkC6m6+u3L3MTr6RRwQJJLa7OytJJLUmX8UjMBONE/NCuXXKN9h4p7e/rvLyq5XnUTgMgZyZMmAgYYR6dUq+tzF4GYWfuCvK5bNAezEAv0/JD/0QNiSEnVHMQy7pKnetP0CF7g3J4UAIHYVGIcjFIXgQYqY4jQCBqHkdvM7DZolokLKOfhUgSjMK9U0zAtWQxgDKuW9KQJ24RDFADrPP9cSb+vFszI1s9FBjparXlXqbuomamnY98DYsOpDbk+3j67EyyCYSrM7nfFsdHd3tpWOtLbJatNjjwqx7T1JxQHXshdM/1sSZtlMQA3VatLg2x3WhYYVZ5r8fj2hpQH7hJjar/SqNvEhzk80NcIinIVjH2NoNHRBuJX2Nj/U4HTXR6cySyY74hgtBCTMDNqu26AW7oDkVOS53q2bjd636hWT7oGnb0X361Ve+/kwWJH6djlxytKrp+DGMv5v8Z9dbFcdUmqv79+gIiJZGup8mh4ZXXh6/zbl58qFhJ/AfoRHmDL5zRpAAAAAElFTkSuQmCC\n",
      "text/plain": [
       "<IPython.core.display.Image object>"
      ]
     },
     "metadata": {},
     "output_type": "display_data"
    },
    {
     "data": {
      "image/png": "iVBORw0KGgoAAAANSUhEUgAAABwAAAAcCAAAAABXZoBIAAACDUlEQVR4nF2SzYvNYRiGr+d5f+eMDGPS+GrSCCXGRyaUnQU7e18r5R9gwULKH6BkI6UwS5GPomRGDaKm6SiJyJTFdGZ8E4ac877PbXEs5N7edXd1dRtg4unGcIgCmJXZt69GbzRdAEbPpIr+TejTiToGpDI0XsnCR693R61v0/bukOFX9gAk9qotZR2kAmP1mIpKS0c65SllhVrbqFdVlRj4oFDREwBnTFmh6bkYQI0RZUlfHSx6V2AEz3+aAAIHxKyDs2Y5hpjAAazU+jBEw8FY49kwnnVWncH1GOIy4JxRVujXRhxIFZeU47dudxw8UlHRVLfXqmTGUeV2VmMJYCxsqijrKgZUW65JoXxuPl7hZXAZhjHv4Jz6glVD67zMTo1dbLgFVBxS+x+tuXy7srtO5R24s8qS2o/v3nv4/JsUCk0fTh10JlRUNFnDrN5/4JlKRNF5DIzF7xXKukkyMOY9UFFpaw/JnfWLADEOmNH14yQmN/YTbqzlrx8kqcWLGRPGoMmDzRhK318jAMgFgGR4sAVDNP+WxsIeDPEmzFk6gCFels6hnA09xRC3SLBLCmUdIwF4YkRZRTP9WMUguQJeUBkE5cTOSCGONVOBC8oKfRjAwVg5rCg5dByHyocwQPtarq6+zVu728n885FhD2D5F8V/f26e7icZUO3olQHKAPbr+7vG/TsfzQvAHy6YROm8ivmmAAAAAElFTkSuQmCC\n",
      "text/plain": [
       "<IPython.core.display.Image object>"
      ]
     },
     "metadata": {},
     "output_type": "display_data"
    },
    {
     "name": "stdout",
     "output_type": "stream",
     "text": [
      "C\n"
     ]
    },
    {
     "data": {
      "image/png": "iVBORw0KGgoAAAANSUhEUgAAABwAAAAcCAAAAABXZoBIAAABoElEQVR4nHWTP2uTURSHn3PuDWpKU2t00CJohSoWGpT4DxE6qIMIDk5ugg5OUvAbCHYQnUQH8TMIdhBEFLW0KJaCIMFAdNC6WCS10iT15r3HoU1I2ry/8TznucM95wggGi1bPF44OJTbGmq/Fsofpr+bSARQYXTyc9PaiVZ9dkEQBI252ze2QJie+VatuvzIyTPbTXh1s6Qoe2csCTZVoJV9DxqhbkuXgdxLawR75FHvnHPOq+PKiv1bedIHE7Ya7LlXJy1TM1x/fGkHwu6yNW3pPJ6OtPrOWjOx2W4G6pyCP4Yob7BuGNdajgLNuY1w3T+MEL6mwAGg+bMXAs0CsZ5i9gNWSzF7l9fhX0CyKbAG6Lb2n3TDZcAPpZgljMyBFHMe8MVNUBygH7HI+EaolohT9lR6jMyxq5gBuLVp2M6x/5PN3xuHwdfWCPawY02UIxUL0a7iGJ6zJNjUWPvR4fvLtmqLFxE05u9c8xDezVaqf9zOQ6dO50x4MfHFAyoU7paSzqX+/fQcKMLaOfQVT4yN5Af6k/riQvn92x8mEvkP7zC1RPwqPXsAAAAASUVORK5CYII=\n",
      "text/plain": [
       "<IPython.core.display.Image object>"
      ]
     },
     "metadata": {},
     "output_type": "display_data"
    },
    {
     "data": {
      "image/png": "iVBORw0KGgoAAAANSUhEUgAAABwAAAAcCAAAAABXZoBIAAABpUlEQVR4nG2QPWuTYRiFr/t+khYVNKa1GqiCVCqYorXgIEIW8QM6qlsX/4EoirPgZv9AcXASQdHZQWgLiosIUREVrLR1CGiN0tIm7/s+xyGJH+171otz7nMfAwDzqB2nJ8cr5e220lj68Gp+AbMOc6dy65MkqfVrXZJWZq8MdligcL2pmGnpzvmR8mB16sGqor5f7bDh58raWXJ7FwZgjD7Whq4BgWNflKRqnsMLwc28EIxpzQdwxhpKolpnKDpdBSvWL4Ax8FaJUt2gj79yDm2DwF0lSjVnvepdmQE1ZVLUWQJb4SOlSjXH/76OjqwpKtXlzUYAbipT1I8D+Fbmp4DIm0WPObCKAfXck17BEJ/zYT8AzRwEvg6Q6wP/ioByPqwTMUZRHnyKAUfJ+QT2LitGbRzOHaExQ2pZ/6VN83Ub7nytJKpxkOI/lm6MM/ZN7VQvSoSCm5l7wSnu69DAxIKylt7VelnGyMPJbgdnz71MUe0nF6tDpYHh8an7evZnFneOzyxLUlz7uZooqn2S0GvllrH7RG1i/1Cpb725+PHl7HsB/AZd17amdl27HQAAAABJRU5ErkJggg==\n",
      "text/plain": [
       "<IPython.core.display.Image object>"
      ]
     },
     "metadata": {},
     "output_type": "display_data"
    },
    {
     "name": "stdout",
     "output_type": "stream",
     "text": [
      "D\n"
     ]
    },
    {
     "data": {
      "image/png": "iVBORw0KGgoAAAANSUhEUgAAABwAAAAcCAAAAABXZoBIAAABzElEQVR4nGWSsW9NYRiHn+89595bqWob1YZL0AQJSQcGhmK0NgzCgsVNRKSxGrpZhH/Acm0VSweLARFM0oTkVjQdEKlL9aatkLTnnO/7Gc51bnO7ffme9/n93uF1J6cH+tz66sdfw7v29+v3arMx8ywzAgAXlEpSerG6+9jkvIKk2Ws9RABcUioFfduJg233lKXB68VBDOCqMino6xBmsVFLFXyq76cwoJbDhQEcuJib8lKiz6MY3FImec3twAHOeKhMyvSqDFYGgEQACO7/iAJROFPDrNKG+e6E0qc6Arg9HLohnumVSLhwYKI7FoJ9aCBcYByr4EAdE3iNA2N8dEss8A7AUR0s4P9YxCKA8+XeonOTudIeGtlkFm57HstNkXRE9pKX/rSetokr4AiAorWWlfPftECOEwCB+WbRWUBxDkGgsdyB7dhIp/fhUMwbtizkON/rHXILT+g2o2zsSv588Mf4oiAlmsxPymEzyqRUTyOgmcMbxIDFTMkrbGhuDwYtSUp0nZJFsXFH3qdes0cwYE2SNnSZEo7BuhIvhUd9ea8kyevlxNjhs3dbCvJL9eM4A3DPj/ZXtL74ODq0vTq01PzbePt+GZMA/gFwpPzrM3JAsAAAAABJRU5ErkJggg==\n",
      "text/plain": [
       "<IPython.core.display.Image object>"
      ]
     },
     "metadata": {},
     "output_type": "display_data"
    },
    {
     "data": {
      "image/png": "iVBORw0KGgoAAAANSUhEUgAAABwAAAAcCAAAAABXZoBIAAAB8UlEQVR4nGWQT0jTYRjHP+/z/iYj0kFhQmKsZnUoqENkxCIhCqSiP1AeiqBEAskIIoI6DCSIMIK89OcyIm/VQVtkIkm5hVKLig51cIRlulhhtUyd29Nhf9zWe/28ny/f5wsABvfFkxjH4Nrz+I9OdHgQ8s/SovE6WNz6UaPXOt/qyIoFKtzSWCUto/q6AWMI6LAbU4BB7bQPVbtciHWEoN4sqMIDXXVAf55ArAHB90NPYckV+vDoUqqvBmtyHbr0b1OeVY1HZnQfrkLS5mTqfL7s1jnNHM3nAMKh99FGJ2tucqXbu535BZiZXseuXGyPnsWBIrP2k17Npvr1br5LYZYbekHApO1lhjFKyXvBlIDltJ8xyhi/iYHg/aa6tmjpbGzbdK1gCFQzlvjPXDk5jmV7Zl77wZSZz4NgGJx9+qu5aIDsKd5UM6JNjXO+yvoy0bCbCBDSlOreUtNQEQsjrP6ub9JxD2UTtOtxLLVDvTv1TukhhrpE0ofIGb+7hvulonBl6cCozcgyIhvifWSKqE1X1yeuozCoa6IdWKRALb5nE0ewwGzPtq+ew6+6HeMYwIhD1Uud3IgA2h9uI6R6O7eRYdGA9nqzDUMaQGT/Ew0fXO4gSxrOvRvaYXIfPZ7PgMr6Y1tcFcmZ9NSXeyMIGYB/P9GvzqO+IcIAAAAASUVORK5CYII=\n",
      "text/plain": [
       "<IPython.core.display.Image object>"
      ]
     },
     "metadata": {},
     "output_type": "display_data"
    },
    {
     "name": "stdout",
     "output_type": "stream",
     "text": [
      "E\n"
     ]
    },
    {
     "data": {
      "image/png": "iVBORw0KGgoAAAANSUhEUgAAABwAAAAcCAAAAABXZoBIAAACLElEQVR4nG2SW2jOcRzGP9/f//duNtpGb5lNSg7JBUmSNoxauZDkEC1joZabcSNKyoWaCxdKIkRLiwsXmOOsjFIsJFLLITFjObS2l9l7+P8eFztY8rl9+j7f0wPXlZUkKTdC/7PDJUQA1N5QrFPb96Q0StePnuU4MKBlNc1bqlsuBwOIy6q/HZ1fU/nQBUhYRVAo39DHCDuUmnvxe5EzwNEu7SrWMpdwzrnI06TbfvAICcBTL7Xx9iAeAO+2hLio7pfHQeBmiiX57ZVoyDbMNrf/V+GVtQDGA2nh1q4hyRjXmU1LA7rkgSj3ZCmVd5MTe00gMitMwsUDABGbpeYpmYU+L3KMwQNYN0wvSuTlAGdBZoBMHpA6fxdMWMyhV9+fv+wCJGBoPLNkQ1qfOyRJqZubS8z+Oju7KimWMoPprKQTjG1s0/YP6HOrJClzv750bCWG9ehNnR6fa9w0h38wK0/pxQKtArDIsGE8YCFZQHc/P72LFWJGzogHjGmRnif1OucCAAWJEIIn6wGzeVj7yu6vFgCiuLF2YHzRjyjlnCOogp9Pa9qGcwN3Jk193xBHLYCz0l5dmq2qYdFZWV+oJ70RZmzLY69U2fQl33vvvY/yqcpqyrH+cREdR5jVo1tLtGZ0tcIHOjlTu/F+UXrnvsm9p8/kStYhwMjftbTjwr2Hx11MSlL62iNl/sZWn84Pdpaag0b9h8zZYhyYHVif+PAmN/YR6Y+t73AB/gDLAy+7LVVkTAAAAABJRU5ErkJggg==\n",
      "text/plain": [
       "<IPython.core.display.Image object>"
      ]
     },
     "metadata": {},
     "output_type": "display_data"
    },
    {
     "data": {
      "image/png": "iVBORw0KGgoAAAANSUhEUgAAABwAAAAcCAAAAABXZoBIAAABKklEQVR4nLVSLU8DQRScud3rXUkhFQUSTA0C2QSHaIJHwb8oDrD8EDC4OjSqHoEj4CpJLWmgadPtDuKud7dwqeOZ/ZidffPmPRJqH8K4tpsaggQJkGArfQMObidyi8VSQXiNrzrsXfbmX7vHPnr9iL0ED0ESRg9TYsvCoK9vncMiiIh2lu0YLADp/e/XCjYRNsQ/gaUgg7jQCnlfgBGAFZaulukR4aLb8vklt+3oKa+KHMgFvk6u93Mm1e3Bm+FLzpQdP86L9AZ9zQJvabjOKXRCtXKriqC4Xm1mQlpvQgY2y179BZPNzNrI1IY5CWTdtpVvLQSpMg62EBTBlaU0dj7dGhSAm6MkidO0kSRJc8/d3Tvmc3Qm+arxz30QxSyenjS5Wh/j92FG+wHUm4oA2GB5xgAAAABJRU5ErkJggg==\n",
      "text/plain": [
       "<IPython.core.display.Image object>"
      ]
     },
     "metadata": {},
     "output_type": "display_data"
    },
    {
     "name": "stdout",
     "output_type": "stream",
     "text": [
      "F\n"
     ]
    },
    {
     "data": {
      "image/png": "iVBORw0KGgoAAAANSUhEUgAAABwAAAAcCAAAAABXZoBIAAABuUlEQVR4nGWSP2vUQRCGn5nfniYmJ0HRxCKKp9EjIAYROwsFEWxi5xewEVstTKGVtX4Ee8FGCIJgoWARtLAQcxAJ/stFCBwWMR53u6/F3l44nWZ299nZfefdNTDVbp/Y6oNVrhCC12phbLK+78gjAGP2k6JGI6l7NgCqvj1bikAKj5//7vjkoTNXLnp4+wGAiiX1JEkLeD7r8qYe5jEEgMRGG3f3UNVe3edlXoVpDMSPn9YHEs6bX59L5UxOrTIHf/09D4wV9aWe7lAVaIADpsOzOBitQgwNoHN0Roaq7jrKNKd8R5MEYmt9UDD3ZBzLPRjn8u4v20Fglm7O7XjKlYlmhu9QjDH1Fu8uY7l7SxMnMTB6jQOxqh+/fpX3w45o9JRGPN85jQ8qaQYZsu6DTtCeqfOXJtqbRXbgnnpS1NpeDJxrWsEGjqvoaXVrAnz5RcAjELDo8ziINdQHAqtx18SDHSWpr1vljSbGyoWmU1NZ9MeiYnvYhzNPNGR/hs7aEIomArG+NWo7OIkL+Rt83fGyWqCrsZDFdna/QYGBxf3RAMb5P45tKElKak8PlZS4sTowPepp/R/6F5Im0lIS21ZZAAAAAElFTkSuQmCC\n",
      "text/plain": [
       "<IPython.core.display.Image object>"
      ]
     },
     "metadata": {},
     "output_type": "display_data"
    },
    {
     "data": {
      "image/png": "iVBORw0KGgoAAAANSUhEUgAAABwAAAAcCAAAAABXZoBIAAABzklEQVR4nGWSO4tTURSFv33uTQyjcXRmGgshOIjmByjjVJaChbXFyIAPsBIRBLUQBO30BwimEWwtxUIYUDSlP2AgjBl8FDLE5JLcxznLIjd34ribc2Dt9e29Dsei2zdWF5LhKEmywh9uNpcX8cMfLzqxFzxV0MEK0iaxwRdlQQrBe++LLM2KIIUihLs449K2/JxDUuGl4PXSGdQe7PO6nTfdieQLhVwdcI63KiTJ6xmO6OyTbwoh97keQY2byiUFDVrUI4wjGx+95LUFMRvKJAV9b0Bj496VOu5C52fxdW1f9NpxxmOlek1kLLUPATGbyiQV+gCNniZKTlNzYC4GmhgAO7Deou4XlgjBLMghFgEw2jVu4c2RAwoQI1YAcKxtZReJZOMEARADcYnVOgAk4+mJw/hVNlJkApFmpRhj/C7vFk9nN+qVE0YIEOPLdwA4dhQq7+wRejGvlMvrHFHlrNpqvMOC+7NXLjEvpindYRT4vO3Cf6KD3edp3H84B+NaOXM3wjh5fqWMPY2iWRRD1u9bCQWHWMYA4/gZIpkjVFTj/mT6s7y6JypiWdfL3xfk1Wsf2PBUiTFc3rpaxp9V6/3A+2wy2htk+afVf5x/Ac+lLNYKjBtDAAAAAElFTkSuQmCC\n",
      "text/plain": [
       "<IPython.core.display.Image object>"
      ]
     },
     "metadata": {},
     "output_type": "display_data"
    },
    {
     "name": "stdout",
     "output_type": "stream",
     "text": [
      "G\n"
     ]
    },
    {
     "data": {
      "image/png": "iVBORw0KGgoAAAANSUhEUgAAABwAAAAcCAAAAABXZoBIAAAB7ElEQVR4nG2SPUjVYRTGf+95/6ZeNQmhwdrCoYaIsIQbCC7lUBQ4JBI1VEND0CANFeSahG0RYYO0BMVtCAdtuLQkQRF90Iddhz7ICMMbanrv/+NpuB/+jZ7phec85zzPOS9U4B1NB8cLfxItv7vWhTNGnzdXKOdpOf9exfHBnp5jYz/iib2bTmmyzh36pGSsDQeOpttamy/rQoUzriYqDWLem/nAuKMoUhYA46ZKOkODVefT+V360lZ5j2hVtwioIeCG9AgDzwmFmt+Kq5OePmmYAGPXb5V1KSXE6FzQATyeuyppbktKiMN/WMzgIJso1JW0EIwnDzHgvkKVd2JsQHMjwI6iQk2lm6Ya9Lcnjty/QpwDgl7keYrq+0/jjSLNtvy/bbAd8XbFxwBOo9kVt1R2oCSTWQtagY/VSjH/LO7s75BDbuHFHCsKNYxPRdxTisrx6tkAxzeFOlknfdBAR1GRTuPN22cSlut+4iimPSP/asKUxDYDtNWSAI7uhpAHkSVgkzK6NgQ4iidfLZ+S8usL8nSHiQqN1UG9cRLvrx0lIDOjksarDj0XpcdG4M0HnuacoljHa/aNy9K91sqv3P1ahSUVt9XnGIdf6uf1I/v6zk1rdoAhTa97cJ7MQO7XWrL4NT/UCJtzQ1XyLwIF0ZruVebwAAAAAElFTkSuQmCC\n",
      "text/plain": [
       "<IPython.core.display.Image object>"
      ]
     },
     "metadata": {},
     "output_type": "display_data"
    },
    {
     "data": {
      "image/png": "iVBORw0KGgoAAAANSUhEUgAAABwAAAAcCAAAAABXZoBIAAACgklEQVR4nDVSWUiUYRQ93zKjTjiKYlGkWJqUkJnYZlBaFIRmRAsVQRlJtLz0kBER9BIUEdVDYAjtoFAPGQUhZiYqiqVlSuE2plYu5KjjuMz/f/f28I/36W4Hzjn3CgCAFAaJuZvT4z0c8Le31g5CChbGmUlklf6YZmJmZqbfj3IkwqEQczfw6cqLIFu2MYZsHqwp251y1AVAYXUjT970nBh0oDb3HMwq6eEH0JBmRUWK8e73pMY0dY8EvSnpqb/6epeJ6vOAQMzbcSKyJl5lKwDAkjPN9y+Udy2FhMINv008+/c0hFBaKSEQ/W5mehsUgPSuWea5qWK4HCCkGxu5GBoA7gSJjPUcWiywl8h/DAUAi79ZzKGRTU4VXnC5naRgjIipKtwWYgEMAHptLAsSX6Bsx0YpwlMBlmmaZ+ZFt9PIeQYyxhhjiIwhHYfKusSiCTAgQMcifV5JgB52JXg7tBr70BIflg/d/2do7w6wqKuNyNPX9GjCHk7L9IR5zDS8SdoSyaKlwZ3zs1P7qCDHK5Mctlb82bzcKLJk4QRt74XuDC6KFZQNAwAirq2z3QolXVx1lTwhIKnPMM8PZUJCYv1lSEikB9iEuARyoFES67hzkCC03VJSa7gAdrSVzrKQ8sBx26UglLFtAwakhICU9VXKRkT0vSKLhBJaK4ZRU60DsACJ5EGm+c+vv1escxx1b305ebuw2Ffu1qT6T1VGfS37l3/yUHvzaCByZcaaKP+kX48fmQegsG+67vDOJ1b4M9kY7njaMnE91nnNjPcfq4eZjG0MGTJEHHgY9gUK7qJ6vyEm27KJeK7l0nIIJRauRyp714bkeI8dCPraappCUEz4DwASPoNxR6PaAAAAAElFTkSuQmCC\n",
      "text/plain": [
       "<IPython.core.display.Image object>"
      ]
     },
     "metadata": {},
     "output_type": "display_data"
    },
    {
     "name": "stdout",
     "output_type": "stream",
     "text": [
      "H\n"
     ]
    },
    {
     "data": {
      "image/png": "iVBORw0KGgoAAAANSUhEUgAAABwAAAAcCAAAAABXZoBIAAAAtElEQVR4nMWSsQ3CMBBFn2NH9BQsQJUBKJmBaTxFVmMEJiASooU4/hRRsB1Emghx5X+++/9OhoUyJwvanC9GSdP+8DAQkaSnPHVqqPF6SpIbBKGO5TwRDBhnAVHNzHAO5mpZP4JuemNTYNtXBYwMQzYtZrCiOW4TtLdmtMuu9tUzlieqRtPFzpV7Bte2u5C0q/fBTVB03b1/w7rvUJbWTAFHK5ONBeXLRLQ27V/guMHHvwWIL6H8PqgA/j3vAAAAAElFTkSuQmCC\n",
      "text/plain": [
       "<IPython.core.display.Image object>"
      ]
     },
     "metadata": {},
     "output_type": "display_data"
    },
    {
     "data": {
      "image/png": "iVBORw0KGgoAAAANSUhEUgAAABwAAAAcCAAAAABXZoBIAAAAn0lEQVR4nO2SIQ7CQBBF3+y2FyCIBoUkGAzHwXCj3qwGEhwORbhAu/srWtguApJi+fK/P38yyXBWjIoHPC95joqKurotZp3tcQk6dgSMtRMAkUyDKWdjONNg2pub6yMsnj0+rfWtZVCEMGlTBqvNsktt92rs07edssetSCnrVgsZgCS1qinTQEmtVpLm3/mHv8H5r3lB8jTT2UgTCsGpBzC0PQHEc8m0AAAAAElFTkSuQmCC\n",
      "text/plain": [
       "<IPython.core.display.Image object>"
      ]
     },
     "metadata": {},
     "output_type": "display_data"
    },
    {
     "name": "stdout",
     "output_type": "stream",
     "text": [
      "I\n"
     ]
    },
    {
     "data": {
      "image/png": "iVBORw0KGgoAAAANSUhEUgAAABwAAAAcCAAAAABXZoBIAAAAFklEQVR4nGP8z4AbMOGRG5UclRxhkgCD/gE3CChK/QAAAABJRU5ErkJggg==\n",
      "text/plain": [
       "<IPython.core.display.Image object>"
      ]
     },
     "metadata": {},
     "output_type": "display_data"
    },
    {
     "data": {
      "image/png": "iVBORw0KGgoAAAANSUhEUgAAABwAAAAcCAAAAABXZoBIAAAAc0lEQVR4nO2TzQ1AQBhEZ1iREIloQHduanRRgogqXDY22QifA9ZfqMAc37u+YQe3NAswGWPtvAEmhyzKHH1Vt43egNKHtALIaAbtJHEdfY87U3KTEJGdeXd33i9/ue4RGMj3wGSaXWDqFHVIgEEUO8SvOyxSJifyxSDSdAAAAABJRU5ErkJggg==\n",
      "text/plain": [
       "<IPython.core.display.Image object>"
      ]
     },
     "metadata": {},
     "output_type": "display_data"
    },
    {
     "name": "stdout",
     "output_type": "stream",
     "text": [
      "J\n"
     ]
    },
    {
     "data": {
      "image/png": "iVBORw0KGgoAAAANSUhEUgAAABwAAAAcCAAAAABXZoBIAAAByklEQVR4nG2SzUtVURTFf/vc93pKEJlo9KGBQmFgIok0KGnSqA+aRH9AGQ2a1KBBwwYiNaxh0DCaOIhqVBARVDYKIqjEJIIwRCUze/fes1eDe83n0z07rLP2Xr+zD2wso+v2CNVAZRPt2MiFrmzmh9smxouSXPXnAxttoeO7Mpe75nY1iwljkiT3TJebZobkxCgyMBKWm2xHPshVVNRgaBRVffMU0+rxV9PICjfiqvFBbW1mCEnbjs6dywvtMsDoa1kD3XfmaH9Pba2Jh0YUa98/fHL4cZkn15V1/JDQ/1Wx0F60r3+dZAsTygtnqkM0ooh0aIAihVenF8uc/0HOLhRdMz3rKq8RKgHAzMajXFKqey0YWKV7L5AYkDD4TVGSx/w4IUA+9HDiak+UJWb0tWGA5Ukvgs6b0+76fSeAtTJeYtZ1isDul3LPc9f97WNDdLwuUVJdB/Yoi5Lc65N6O/pkuVxZqvMYLY8UXbMril7iF9otsBBaAeZTzBPFKEASdG8D2n4q5pLcy6+TxcJ6DeD0lKKiS9HzctHZn6X5uc+9mGnruUuHq5aqBtS/vP84Nbu4tLLyN6S5EZzqwQOaqd6tTr579Slr2MQ/lEAvV0EbQOUAAAAASUVORK5CYII=\n",
      "text/plain": [
       "<IPython.core.display.Image object>"
      ]
     },
     "metadata": {},
     "output_type": "display_data"
    },
    {
     "data": {
      "image/png": "iVBORw0KGgoAAAANSUhEUgAAABwAAAAcCAAAAABXZoBIAAABZklEQVR4nJ2SMWtUQRSFvzszeU+WQJoU4hrbiJaCYGEhhFTa+kcE/4aVYG1rKVjZ2ShY2QlZy1WMEkk2G3Fn7rHYmU32BSy81cA5591z7nkYm19UdHmyngX+Mf8PJgB8yJLwSAKcEPALsDwawhNY+jPJW+Moa6DF2bd5v9sBV/Z3IqP7n84D5afXe+KtO+fGdn/Ia8DnGFbdxmBo4/MrVJlv2TBZCAEoLlR4Xd1E/0kRcr+QYKKwlLpfPsL8sGXvh6A4O0aAFbawodJzo42rtRVopK69buJD5Wh7+TXjbhRrE7hXT+Q6vbqkBUspxhhT4HFboNHeekmBvZN6Pi30clllevP9w9ejs+3xo/2+BsC4vTkzAe3ccm+lFB1cIwCpuAdMIq5WlDCZmgCOhr+kL/T7QTV0so7kRdHhw2Z2Xne6l5yLXLMXO6sVvqacvXtyg9BCpmnXdb3lPD/+NZ18fH8golqffwHNRf5Mpfuu9QAAAABJRU5ErkJggg==\n",
      "text/plain": [
       "<IPython.core.display.Image object>"
      ]
     },
     "metadata": {},
     "output_type": "display_data"
    }
   ],
   "source": [
    "disp_samples(train_folders, 2)"
   ]
  },
  {
   "cell_type": "code",
   "execution_count": 318,
   "metadata": {},
   "outputs": [
    {
     "name": "stdout",
     "output_type": "stream",
     "text": [
      ".\\notMNIST_large\\A.pickle already present - Skipping pickling.\n",
      ".\\notMNIST_large\\B.pickle already present - Skipping pickling.\n",
      ".\\notMNIST_large\\C.pickle already present - Skipping pickling.\n",
      ".\\notMNIST_large\\D.pickle already present - Skipping pickling.\n",
      ".\\notMNIST_large\\E.pickle already present - Skipping pickling.\n",
      ".\\notMNIST_large\\F.pickle already present - Skipping pickling.\n",
      ".\\notMNIST_large\\G.pickle already present - Skipping pickling.\n",
      ".\\notMNIST_large\\H.pickle already present - Skipping pickling.\n",
      ".\\notMNIST_large\\I.pickle already present - Skipping pickling.\n",
      ".\\notMNIST_large\\J.pickle already present - Skipping pickling.\n",
      ".\\notMNIST_small\\A.pickle already present - Skipping pickling.\n",
      ".\\notMNIST_small\\B.pickle already present - Skipping pickling.\n",
      ".\\notMNIST_small\\C.pickle already present - Skipping pickling.\n",
      ".\\notMNIST_small\\D.pickle already present - Skipping pickling.\n",
      ".\\notMNIST_small\\E.pickle already present - Skipping pickling.\n",
      ".\\notMNIST_small\\F.pickle already present - Skipping pickling.\n",
      ".\\notMNIST_small\\G.pickle already present - Skipping pickling.\n",
      ".\\notMNIST_small\\H.pickle already present - Skipping pickling.\n",
      ".\\notMNIST_small\\I.pickle already present - Skipping pickling.\n",
      ".\\notMNIST_small\\J.pickle already present - Skipping pickling.\n"
     ]
    }
   ],
   "source": [
    "image_size = 28  # Pixel width and height.\n",
    "pixel_depth = 255.0  # Number of levels per pixel.\n",
    "\n",
    "def load_letter(folder, min_num_images):\n",
    "  \"\"\"Load the data for a single letter label.\"\"\"\n",
    "  image_files = os.listdir(folder)\n",
    "  dataset = np.ndarray(shape=(len(image_files), image_size, image_size),\n",
    "                         dtype=np.float32)\n",
    "  print(folder)\n",
    "  num_images = 0\n",
    "  for image in image_files:\n",
    "    image_file = os.path.join(folder, image)\n",
    "    try:\n",
    "      image_data = (imageio.imread(image_file).astype(float) - \n",
    "                    pixel_depth / 2) / pixel_depth\n",
    "      if image_data.shape != (image_size, image_size):\n",
    "        raise Exception('Unexpected image shape: %s' % str(image_data.shape))\n",
    "      dataset[num_images, :, :] = image_data\n",
    "      num_images = num_images + 1\n",
    "    except (IOError, ValueError) as e:\n",
    "      print('Could not read:', image_file, ':', e, '- it\\'s ok, skipping.')\n",
    "    \n",
    "  dataset = dataset[0:num_images, :, :]\n",
    "  if num_images < min_num_images:\n",
    "    raise Exception('Many fewer images than expected: %d < %d' %\n",
    "                    (num_images, min_num_images))\n",
    "    \n",
    "  print('Full dataset tensor:', dataset.shape)\n",
    "  print('Mean:', np.mean(dataset))\n",
    "  print('Standard deviation:', np.std(dataset))\n",
    "  return dataset\n",
    "        \n",
    "def maybe_pickle(data_folders, min_num_images_per_class, force=False):\n",
    "  dataset_names = []\n",
    "  for folder in data_folders:\n",
    "    set_filename = folder + '.pickle'\n",
    "    dataset_names.append(set_filename)\n",
    "    if os.path.exists(set_filename) and not force:\n",
    "      # You may override by setting force=True.\n",
    "      print('%s already present - Skipping pickling.' % set_filename)\n",
    "    else:\n",
    "      print('Pickling %s.' % set_filename)\n",
    "      dataset = load_letter(folder, min_num_images_per_class)\n",
    "      try:\n",
    "        with open(set_filename, 'wb') as f:\n",
    "          pickle.dump(dataset, f, pickle.HIGHEST_PROTOCOL)\n",
    "      except Exception as e:\n",
    "        print('Unable to save data to', set_filename, ':', e)\n",
    "  \n",
    "  return dataset_names\n",
    "\n",
    "train_datasets = maybe_pickle(train_folders, 45000)\n",
    "test_datasets = maybe_pickle(test_folders, 1800)"
   ]
  },
  {
   "cell_type": "code",
   "execution_count": 319,
   "metadata": {},
   "outputs": [
    {
     "data": {
      "image/png": "iVBORw0KGgoAAAANSUhEUgAAAXYAAACvCAYAAADpGPU2AAAABHNCSVQICAgIfAhkiAAAAAlwSFlzAAALEgAACxIB0t1+/AAAADl0RVh0U29mdHdhcmUAbWF0cGxvdGxpYiB2ZXJzaW9uIDIuMS4yLCBodHRwOi8vbWF0cGxvdGxpYi5vcmcvNQv5yAAAIABJREFUeJzt3Xd8FHX+x/HXZ2Z3k5BQJDRDFQII0hSRYoNDpJ2ensopeog/UYGzYP+devZydhQF609UrFiAU9FTz07vSG/SQg1SQkiyO/P9/TGbZDfZTUFO7ze/z/Px4GF2dsp3dmbe3+9857urGGNQSinlH9ZvXQCllFJHlga7Ukr5jAa7Ukr5jAa7Ukr5jAa7Ukr5jAa7Ukr5jAa7Ur+AiAwXke9jXhsRyf4VtjtdRC6twnw/icgZ1X1P/d+mwe4TItJERDYfwfX1FpEtZabdHQ2ua8tMHxOdfnfMskZEni0z3/ciMjz6d9lAPEVEZojIPhHZIyI/iEg3EblNRPKi/wpExIl5vexI7e+RJiIvisiIMtMmikhRTPnzRGTx4azfGDPQGPPqkSmt8hsNdp8wxmwB9ohI53/zplYDZVuKw6LTYx0EholIi8pWKCK1gI+AcUBdoDFwD1BojHnQGJNhjMkARgIzi18bY477RXvy7/UJMDjB9Ediyp9hjPl3Hy/1/5AGu798AgwqfiEiLaIt50tFZJOI7BaR22PeTxGRsSKSE/03NjotHZgOZMW0LLOii80FaojIcdF1HAekRafH2gtMBO6qQrnbABhj3jLGOMaYQ8aYfxpjlhzexwDieVJEdkbvApaISIfoexNFZHy0OyMvenfQKLr/P4vIShE5PmZd/y0i60TkgIgsF5Fzq1CEz4FTRSR0mOUfHi3XuGj5V4pI35j3v469IxCRK0RkRUwZT0iwzmNFZIOIXJjgPStmP3NF5F0RqXs4ZVe/PQ12f/mYmGCPcQrQFugL3Cki7aLTbwd6AF2AzsBJwB3GmIPAQCAnpmWZE7O+1/Fa6eC13l9LUp4HgPNEpG0l5V4NOCLyqogMFJGjKpm/Ks4ETsOrNOoAfwJyY94fAtwB1AMKgZnAgujr94AnYuZdB5wK1Ma7k5gkIkdXtHFjTB6wKLrc4eoOrI+W6S7gg0RhKyIXAHfjHZNawNnE7yvRoP8ncI0x5u0E27oWOAc4HcgCfgaeTTCf+j9Ag91fZgJtEwTjPdFW8GJgMV6IA1wM3GuM2WmM2YUXWn+uwnYmAReJSBC4MPq6HGPMduA54N6KVmaM2Y9X+RjgRWCXiEwTkYZVKEsyYaAmcCwgxpgVxphtMe9/aIyZb4wpAD4ECowxrxljHOAdoKTFboyZbIzJMca4xph3gDV4lWBlEnXH3CQie2P+VdRPvhMYa4wJR7e7KsH6AEbgdfHMNZ61xpiNMe+fCkwDLjXGfJRkW1cBtxtjthhjCvEqivNFJFD5bqr/NBrsPhINpX8B/cu8tT3m73wgI/p3FhAbABuj0yrbziZgLfAgsMYYU9FD24eB/pX1/UeDd7gxpgnQIVqOsZWVpYL1/Qt4Bq/VuUNEXoj25RfbEfP3oQSviz8jRGSYiCwqDuNo+epVoRhxXWNRjxlj6sT8q2hky1YT/yt9yY5PU7y7imRGAjOMMV9VME9z4MOYfVwBOMAvqVzVb0SD3X8ShUkyOXgXdLFm0WngtZ4r8hpwI8m7YbyVGJOLF9D3VbFMGGNW4vXPd6jqMknW87QxpitwHF6XzM3VXYeINMe7i7gayDTG1AF+BKQK218JBEWkZXW3G9VYRGK3E3t8Ym0GWlWwnpFAMxF5soJ5NgMDy1Q6qcaYrdUvtvqtabD7z3TgTBGpyrF9C7hDROqLSD3gTkq7VXYAmSJSO8my7+D1Y79bhe08AfQC2iV6M/pQ70YRaRJ93RS4CJhVhXUnFB0q2T3aXXQQKMBrgVZXOl4ltyu63suoXoVTnYq2rAbAtSISjPajt4uur6yX8Lp4ukYfGmdHK6RiB4ABwGki8vck23oOeKB4ueg58YfDLLf6jWmw+0B0dMdtANG+8o1Atyosej8wD1gCLMV7eHh/dD0r8YJ/ffT2PK4LINpn/4Ux5lBlG4n2oT+CN5QxkQN4Dwpni8hBvED/Ee+O4HDVwmtp/4z3eeQCj1V3JcaY5cDjeM8vdgAdgR+qsYqy/ey3SPw49t3Fb0Rfxz5snQ20BnbjPYg+P3oHVLaMk6Pvv4n3WU6hzGdtjNkL9AMGikiiu6en8Prh/ykiB/COQfdq7Kf6DyL6P9rwHxG5C7CMMVUZaqj+jUQkFdgKNKlKJRiz3HBghDHmlH9X2ZR/aYvdnybhjdxQv7HoqJtbgMzfuizq/w8dyuRDxph1VDxKwhei3RbTE70X/abqfwRjzMu/dRnU/y/aFaOUUj6jXTFKKeUzGuxKKeUzGuxKKeUzGuxKKeUzGuxKKeUzGuxKKeUzGuxKKeUzGuxKKeUzGuxKKeUzGuxKKeUzGuxKKeUzGuxKKeUzGuxKKeUzGuxKKeUzGuxKKeUzGuxKKeUzGuxKKeUzGuxKKeUzGuxKKeUzGuxKKeUzGuxKKeUzGuxKKeUzGuxKKeUzGuxKKeUzGuxKKeUzGuxKKeUzGuxKKeUzGuxKKeUzGuxKKeUzGuxKKeUzGuxKKeUzGuxKKeUzGuxKKeUzGuxKKeUzGuxKKeUzGuxKKeUzGuxKKeUzGuxKKeUzGuxKKeUzGuxKKeUzGuxKKeUzGuxKKeUzGuxKKeUzGuxKKeUzGuxKKeUzGuxKKeUzGuxKKeUzGuxKKeUzGuxKKeUzGuxKKeUzGuxKKeUzGuxKKeUzGuxKKeUzGuxKKeUzGuxKKeUzGuxKKeUzGuxKKeUzGuxKKeUzGuxKKeUzGuxKKeUzGuxKKeUzGuxKKeUzGuxKKeUzGuxKKeUzGuxKKeUzGuxKKeUzGuxKKeUzGuxKKeUzGuxKKeUzGuxKKeUzGuxKKeUzGuxKKeUzGuxKKeUzGuxKKeUzGuxKKeUzGuxKKeUzGuxKKeUzGuxKKeUzGuxKKeUzGuxKKeUzGuxKKeUzGuxKKeUzGuxKKeUzGuxKKeUzGuxKKeUzGuxKKeUzGuxKKeUzGuxKKeUzGuxKKeUzGuxKKeUzGuxKKeUzGuxKKeUzGuxKKeUzGuxKKeUzGuxKKeUzGuxKKeUzGuxKKeUzGuxKKeUzGuxKKeUzGuxKKeUzGuxKKeUzGuxKKeUzGuxKKeUzGuxKKeUzGuxKKeUzGuxKKeUzGuxKKeUzGuxKKeUzGuxKKeUzGuxKKeUzGuxKKeUzGuxKKeUzGuxKKeUzGuxKKeUzGuxKKeUzGuxKKeUzgV9zY/3sIabbwghf5LSl9uB1YEyVl/3cnSwA/awLzOoXurHh9y+S5xbw+yuvIeWTuXHz2vXrc8ZX67ih7npavncVra+dXW4dsfPft2EuXUM2tpTWc2HjxK3TQjj1htHMeuvG0nWI0GJ2Kk9mfUOKBLDFon9Wl/iyZNZlw1+OZcXI8QD0z+rC5+5kOX3gw+arV14qma/dc6NxgwY3CG7I4Ka6pNQ7RKesHM5vMI8hGfsoNGG6vHgdq+68PuF+AJy6pIBbM5cxvxCGfnslbUcuwy0owG7YgIZTD/FKs+8YOOBCPlt0nwDM3djcdArZWEjJ/pfd92JBsRk48CLcpavBdUo+z/4n3GWmf/Jm3LzF6wiKHTf92b1NmXzTgJJjluyYeB+6jd2yGSturUf7v20ismMniAWug5WainV0Q5wt2/hn4RtxxyTQrAnTZkzFxcTtVzKDOvfj0x3jBeCupX8wN2cuKlfuioSNw6O5Xbin49SE+1L7+0yeb/4Pes68ipajtkI44r0RCiKpqezq24w5D01gUKe+fLrzuZJ15NzSi6Vjxle6fce4ANhiMajP+Xy64iFxt7c2QLnzsSrKHpPY6yPZ+gLNmzJlxhTOOmc4Zv5yPo+8nfy4irD5jp4sH+XtW5vXRnHMf88see/geSeR/t7spOfGZzmLcIzLZZt6s3RnFq6RcpuomVpI+oD15dYR+aIZn7R7nwA2Jz50NQ2fm4OJREq2bderxxsLppJhpRAUu+R6BTgzdJEpnlcCAXYP70b7y5fxWvNvS7b7cG5rZu5pyc4Jx1DzndklGVduXywbq2MbHpoykS4pKWyL5HH6pJtp/G2ElC8XY8JFJevssTjMvAFNmb51XPkdTeJXDXaAZim57Nheh9qHufzmO3qxaNDjzC+0ue2YHqQGFlL2zHF27+azjrX5/pt+LPzjWGqfn1bhCX5SSrB0WeNii8V/b+9Gmh0umd4ktIea78yCt6ITRBDb5pATxJYy4SGln7+z52eaPzyfwZPO4ePvp5RMT/tpb1wZmt07AwmG4gtmXPa5hpfdY3gZuHbtygo/m98tPcjIo5bQefyNNH1gBrxqmL5+FoM69cXZlUtODwdy4OFpE4H7ALj69muJpAq7uzmsPPtZUiRIn2tHU5SRIAwF6m1cDtEgKZm8fgsDW/Zg+vpZJdMGX/BfRDKC2PkRAvsLcH9cA64DIqTa5Y9Z+W0JuA7DPv6aice1wrFtMIaD05uzY1FDWv99OZlv/sx3SzqXWc5i0wVNgfhKZVCnvkitmuBGy24MJr8AZ9cukN0l89niEhS7WsFevFwyjVL3U8MKctSUdNz9eZhIOO79o17dCg+Bszs3bnrjJ+fBmNLXg/qcj7Nmg/c5AhIMsfX6E1lw3biS8uZnH1WtcldGgiEuX3Qps7tNpIaEks7nbN3GOSedxb7T0qm9MHn+SCDAuge7sXDoE0AqLSePpM1dCzAirHujM9mXrSD9vdms/3vP8gtbNtK1PbAIWyx29NxPw0B+0m2VPcckGCLn2yaEj3VIsYI0eGZG/DzG4OTu4cKmvXh3y0xqS1rc8kW9O3P5s1O4uGYujnHZ5nzN7x+7hf5P7y9Tzt3UsnIxFTVcXYfek+bRLmTR6/qR1Jw8l5b2fDAuxolpWIkwq3MQZEfydSXw6wa7MTQL5hLKCXotryQtw4p8eeUj1LYy+OvQSxHrx9Latsx2EKFwWBq1Z6SVf7+YZXPorK6EzfySC8MWi22RPH7s6gKlF/dc6pffBhBxEwRA7AEVwRQVEVn/U/wsW7aVXyymlk7k6exjacYMuPP6hO/fmrkGSKPpAzPYOboX6/uN540DmV5giGC3aQUs4rKlw1jYzFum9uQFSGoKTqgDzlkGBNLfn01GSkrCbbiO4x07SoPMOXCg3N2XzFhMKBDAuMabMxpGGJP4mJUlFlanNgxMn8nr9buzdvQxFDUO0/JRQ53rc+HDdHacvIM2LIArYhcTTv/TfFwMNl5rekmRg7M7FzmQhyluLcdWThVcgI5xcTG4MftrYREUu6SlXJnHj55FUILUmboUNxJOuL1EDY+y54ObUf6YWEXe3WRJeVOOfO+q61beUDSOQ2RrDrXWZWLc5J+niURYc8kE8l2LNq+OovVfZ2JEsLOPoemrAYiGWuqexNvcd28+hSZMigRL1ldlllBB/euJNj6Gdj+Pj+d+EvfWz21TOD1tI4UmhUdzO/Jdp1QaBeeVb6S4Ttm2T0LPzejNRQMXeg1GwLgJ8rD4XKlG7wb8Bi32OlY+6VsPf/lLVg/lg2PfYU/7GtRfGMQtSFI5GEPkp030P+fPiOMCy8rP4zr0vff76EVbGtC/e/kWmgfnVRq0ABFTwYUkQqBhA0xmHZzlq+MuXvfgwUrXXS0inL1mAJOz/4HdNpsG42dwYtEo5t07gYtziluCC2k5eSStr5tVkstyXDZuyKagfumFFGjRDCezZvJNAfbPMeVPctJV66Iry3Vwl6zkor5/5pP577GkqIBrrrmWwJdzqPslJGsSmEiE2xt+jUUNwAv24YuG0zhlHaao8uMZyzEuO518Lhx9A0W1LMJpguVAyn6XtG0FuCk2E197moZ2BY0HSu8cfukxL6yXRoptY6KpYRyHxtN3Yt9iETYOQbGp8cHsX7SNwxJtNDir1sK85aWVeBIf56cyuAa0fmYjEQCxyGtfj4zv1+I4DmvH9iB7zAz4e5kGjOsws/P75LuGYz6+grbBxVW6Rqu0C4EAq5/qSuu/eN0nka055eZp+PwcLn/2FD7LWcTEz/qQHZx/eNsXIdCoIWt//zzZU2+gbWDBL7tWEvjVg72uXUCtTYe/E4EzNuFuNsy7bwIDFl8CC1Z4byQ7meYtr/C2/676ywGv9g8bh+tyTqbZPWVu0Sw76foT9e8Vd8VYKSmse7oBWS+ECK2yKz145bpioqpy8ohtU3j6ds7+8lw+++o9Bnf/PZkvzaT/S/EtwTaB+BbGQx++QseQt/929FZ72g9TqEihiXDqwktiNi5IIJh8gcNh2WBcLyyA44IhpowfS58WN1Frc4RXn3qCkc1PSbjo0YGMkr9rWCFqvelVUmKXv7syjpO0YorgcPbdN1P3o5nct34Rd6w5l+17amE21qDushqk7wjTJJCR9JkEIlg1asRPCpRechIKse6OzqTmCllPV9yQcIxLbocQTWamIrUbgG1h9uzFWbWWwb3O5kDnRtSctwWk/J1gbNdgharYKow9T43jIJbw0wOpND2fikM9ep4806ELg9fPYttZzan/XA64DmnT5uJ2aU/+aa3JHjMr8fKWd/xqWCHa3bIap0yX1uGQQABsG1NYyPpzn6f/X0qvl94/nkMKP5Xua/T6fWJPS9J2CVhV7vIux61fB1ssjvnAAdsG11RaIVbHrx7sDW2LlF0Fv2gdFzbtxc/De/L5lCfYEoHRV19H6kdzEs+c7MOybNyTOwGLSiYFxWZ841kQU1nnu0V0/Ooqsi9dUqUPXlJSMIWFWDVrsubu41h7ynMMfHAobpLb0+KWVs7NvXCj2RhbVxjb639PKlrpbLinG98Ne4wGdjoAH8/+KG62wV0HENm+o1zlUmACHDJFBMXGjg6SOmQqrkjCxiXixIeklV6+1fpZzqJy02Id/8Do8hNFQCzs1sfQ/d3lTJp+Ov2zijdik5W5BmfXLkZOPZVyvaiWjd0um9hjCvDDU8/DU/GzOsZlv1vAhU17JS2fYwy5pxVRf2pdTkuFbzt+CMC6cB6tghlJlyvZFdtmzx87ETbf8m5eA/LP7Q7iHd9IqvBze2H18AkMbH2y10VTAVssltw4Hm6M34fJeZm80hZqbMkhkqSSsuvVq7SsAKagAPfAgYrL8VUWlpRuIyNYyDVHf8HJqfPoTwUPakWw69Rh28SGLOz2Nr2vuILaY3LoMSrMnIs7ctPUyTzSypC+NJCwISbBED/9rSuFZhYBbD5Z/k3CzQwcNBR3yaoqXauRvl3Zmx2i+cVrefmYqUB8JZwyYHPC5ZqEclk6ZjwX/uF3jD56NqelRrvSKmgAJvPsS+MYPfI6jA1fv/gi8wuL6JriVZyDT+jvDRioZjcM/AbBXttKY/15GYTO6F7+6UYZbhCaPzgnYUs38+2FDJnYk73DejL7hQkl0zdF8tjjBFkXrs9LXTvj5uUl/mBch9oPbo7rr0ukhhXi2Dt2E6lif+rGW7viBg3GhvYnbgDA2p+Pm2D5+YVF/BSuR6adx/tXP0odi5JgjtX/3sQXjAQC0Lktn/7jDTZFvuePY24k/YM5CfdXArsTTr+rZVckGGL3pV35+u4nybBSOa9Jj0r3sxErYrvZkbrxD+2ShfpVW3qycVRLzPxlNAzMgXExb0YvjIkbv+HSizoyo0sKrey5paeJ63gPOyHpyb7hgsySyrIiH+dnML7dSUAld48HArj79nvhW6Yr5bJVGzkvY3eSBcG4hv1n55Fvihi3rg8H2tlgwFgQrmW4+eyp3m4dZheNLRb3TrqIpjIz6d2gdOtIfr3UStclBlK35cHiFRXO5/TdAbVKK7UDNWty3YC/MO+eCYkXEAFjuH7Ncvqk5fHC3mz6Z3UhNbAQ/mkxKxwEVvJIq45A8u47Ey5i2qWPASEeym3Pv24qf7fm2kLKornlF04i8OV8GuS258c+R3OwhUu5x84JQrp4RA5YvN7ic7rOvYQmI3aC7Kl6qBtDp1e9gRCDpo+hTqsADZ6dwYDmJ2HCRdh1auPmHcREqvfANG7fDnvJX6DNczlENm6p0geRsPYOBHALCljzVA/WXzCBKQczuPO5YWR9sx/rYCGRo2oQrhkklDe/wtpuXPMpBMrU0vvcQ3Gva1tpRDYmrrkBCpz4SiG2dV0IkAMmkDhk7ujQBywLCQSQjHScRkexv1U6e1tZHGoa4ZkzXmNwjeR3NyYS4dp33gfgv4ZdS/o3XqhLMIQEA7iHDpXsv4lEkECg/IUjgtgWxvIeCpawKhkVEltRiYVbM77Fnv3VZTSp/zN1Ug6xtzCNTdvq0vCzELXenAUsQ4Kh8l0ProP7ZVP6TLyZ5jNmgVjV63s0LjW6lg/aQf3+hJNe2n0gBqwNORhnT4Wrs0UI7fG60N7a8C3nr7qQ9ZvrE9zureuDXZlcWPPL5F0xrsPZ2UtJlQAyqR5N340fWjf16S5cObd8X24iYePwh9VnsfPN5hTUFZxUqLXB0PS1Cu7mADN3KYkfgycobpVmcnD27it9vXcfmS9u4YUbshLPbwxrXz+efmkLsCXI9Au6I8GfvJFBpnpdsm2C6eS7RbzyZW9a/2veEemXdhct55gL4c/9xxA7/DiZTo+N5uxh33F/g6Wc8terOfq1mTjRyqs63l/RhQ0HM2kzKtrTIIKJhJFAwPt8q9p9lsRvEuxm/4FyQ+aqSgIB9v7pRGY9+hwv79te8kAyKzAH4xocvId7Iaj0w47ti813izhhxuW0GLqiWifM3oL4QJNAoKTfVoIh2nxzKa3SikpGAcX2sbr5MUO19u6FrduotVCoFR06+Yzt9UUms/HenpySOpPj77+RRrMW4BaHeLiItROPY+rJ4zku5JUvbBw6vHI1Le6YGb8SYzCOi7jEjfyo7i1lYUPvTqO4i6PVxQuRQIACIBVowxYvqIs3m6A/+bwVO3nsw560vG++N1SsuqOmjOGtTq9g4e1zvlvE4BUXEFqxNn62aDmrcjFKtAhj93Tjy/bTKGwXf4dX2ciYBxt4gVbng0XeiKKYska25vD1oaqNYgkbhy3/aEHjNxdjikq7bQyUVMJiyRF/CFclls3Ee86mJuXP1f1De7Dyd8/iAu1eHUXLNfMxkTB27Vp8uOwLbt3ekzmPnsi23i5tRibpThXBzqwLeHfQbe9ZgeMcuf5ogNDnC3l2b9O4feLE9qweEX+3kzVuHnOfDMBWSMtN0liKLXowFD980bLZenN31vYez8DsXiV3NLENMO+P6ne/xPpNgt3Z8/NhL5s/+AR+eGQ8j+5pzRcdSkduVOeELv5yQewwxxpWiFbX53r9lNVwsDD+gaekpGCigW3CRbS6cr03GiMalDuv6FY6c9mDZ+KHSZlwgmFwMTX5F8MfpbaVQYPxM0oj2bJZM/ZEVvR+ho0Rt2T5tWN7sHj4k3RuPsp7XnAEiSUcyix/KlXnmOz8Sy+urD2e92+bWaUx7hIIemN+y2yjTbC0KysoNrnTG5Nlbzus0QsWFvUXexfvrM4k7EO+aGUOQzK2JF1H8fcb3ILEd14PtepUaTgUK8w0mMLC+Hktm0CzxqRPOsjm8a2jd0S/Mteh5tuJt/v8g2MJiheOx/y19Nh+svwb+md1QwJQi3nUfDvC+kd60ur28iNNxLZZdUdrCs2npEgw/o7hCO7DtA4NiB1vteEGgb3xLefisu12DuJeuxs+K7Oe6PdbTCQCImwfdSKNvospr3FJO9W7q4xr2B1hv2qwlzxN/wW10XvPPIkt6fxraDew1hzWk2QTiXDTzW+Xm55oiFNl8gvKBHtaKsQcsJI+fhHs1i3pMCzBsMuqEsHKKL3LGLn+At5vPY3dV/WkwasLvfAwLn27/0iKBLn0r9dQO+DdsmaPmUXGkFQW9BnPEDfBlz9MfFdM7J1FInFjlcWisI6U9G0fZXvdWxIMVXhnFtuS+eTWR4DKH0gWf44/DWlI4BAc/XhpV0SgeVPKPgxv8sZa7/lGsq6lClruQbH5dsIL5aZviuTx3aHmpFuFnJOeR9gkWHfMscpzKx4sUND/eFKmL6jwXK5hhVh12QT63x5TuYgQyGrExzOmUWjCOI9Mp8fRY5Ku49fS/8fSL+wsKmhC2+A2vi/wwl0CAXaO6MaJf+tJvTLDBWutJeH5YiIRvvrjYzgmxLBNp4F18IiOICkRu07XYfVpr5H95sjy84kwaMlw5hw/mf6R+IemgayjWfN4PVaf9lp05oVkd78sZmcMc094l02RvCNf/hi/arBb2c2BJLdbVdRv/gg+7/oSq25Ip80IwZgK+reKW7cJ3r+w5s/Ejl3Pcwu4fPWGuHnCJsDdU4bQ6va5SVtU4cL4j1Bq1YQ9e4nrsYwe+O6TV/BpTrv46Xgt3viVRAO2+FtoxoBls2daK/o1Lv32abj3NlJygsy/awID5lwMi733NnU/SH+6UEtme0OpLJtDZ3cFFnH6IzfSKBB/DEwkTMOP11PjvpD3hZwvm7L/1SYkGskJXh91xpb4VlW4ppR8H8AxLuM2/sDAD27kqB+FlP0uwXwXNyBE0iwiqUJhbaHJB5tKlr9zW39ebPoDVno6JhLBFBaW2WhpS8hZvY6ZIydxUcdBXv9m1LaBTch3i6hhlVa2btMGOK2zsCIu4pjSb54CuGDv/LnaFXpjuwZDMnZGXyWuMMS22X1BB/LdLxmxcRBY0VZbcXCJVdJ18vWLLyb+ZrRl0/KDq/jxnHEl+/RZziI+zU9h5sFs7qm/DFgIQACbFMvyKrpHE3+B7XBVqbtXBAmFyLm6Kx/dUMRNn3qTJ102mGHvv8rygialw4AdyHw55s4s+q3TVkOT3601C2TgGJctd7UhFFwKTuJCVXjn4xoq+tqJVzjvWu0w32Kfe4jg/vILSCDI7tyaFJow6944nqx6e/m8w7ukSJB/5i/j1rFXMOiafiUP+ltZS+Ci0n0F+CmSEbO+QHxDqYrdhBX5VYP9UPM6v3gdjc5ZwaMLTmFVvxd4eMFxzDyzedIhQWLbXLPyR85MO8j0/NJumwN/6kHZIXEZVirnpseyWo9BAAAFI0lEQVQ/TAuKzZtjN1TYPWPZhoLoQ6AUCeLWTPMuWMc7Aay0VMKdWtJn/ExGHLWAifO94XWSkkJh745e2FiCk2LhpAgFtS0K6guRNChsVkjPNusZ0mButGU4h9t2nBizg0L/rC6M2/gD//joNV7Y14IpV/bF+r503wrOPJ6/jfsf+qbNp+s9o2j4wszyX3U2hsj2HXScPZR5J73K1LbvE3wo+cPTQhPmtAWXli4eCdPs3S2kjAlSaLz+3yZ2kHnnP4F1gWBHvxmZYXmttj+u7UfhEMs7blGbuh+EHJi+5gc6PjmarEfLPBQUi12Xd6Pp0PXsv68JQ5oAsjfuuPe6fAEQ3+/98VSv5RT7kw/F3yYt/i2Q6j6ossVKEuelTCTC7X99naDYvN7ic87qPAx7b573OzG2hQkF2du1ARMffpywSTJqxXVofc0cutQbwYpTJxKJdhP0SQvTJ20RTsydQsnQzV/40K3cfoSLuL/j1EpHGQUaNWTDuHos7zU+rpKy5i7jhPtGseBvE/jIHIWJRMh8ufSBIcaw7cNjaXVO8qGxuZf3pORnBK46RGB0y4TzFYUDNLtgaYX70up3G0r2Zc9/9aTuxDlxLXWrU1uemvoizQMhLEKEyvxaAJbNzhFdWX/GBMLGYm2fVxiyvi/nnjAYJ3o+NwzOix9jH7P+zbf1ZJ87g+e2DcLOFJzcPRT27YKxhGB+BO7czYYdmaw6/X84/bpRpH8w77DuTn7VYN/XIkC+W1Tp+OZiYeNwx86uLDoh/mRdcqLF792u7Bzdi7qTtvB09gzq2y4Ho19fLx5jPOVgBjfMH0KzcRbW94s4J3q9D797WslvwsRKdPJGtm1PWLZ71s9nfkELPttVjzMWXYrjCo5rkfZQGNccA4AxguMKheEwr686iUnSjUafB2A42I0alHsKXxw4YePg4mJhYYtEu0jsuK+ORzcAwDXNT8auVYuV97Xn9hencHnt7YSNw4ZIAefOa8/Dl1zCIzMXUz8wt8Lfr8g6bxX9B4zmtqcncmaN5OOqXVxEYlsYhsjGzfT702UE791ByHKIGItCJ0B+OIjjWuxeUY+2Y7cQ2bwFrD0JWyX9s7qQO6Inp181n6fGLMAWi2kHa3DdN0PJnBmk3guzOPS8IRTI9Vp2ZZZf8kBn/nBNAy7Imk+b0HYa2nnUtw31okNIiz/XnEghnxxsx7T2maUPr46g1S+fyLL+46M/DOfdwXz68Rvl5vPKE+KV/U0TrCXKGFpespyzMgew6vHGdGyawzkNF9IxZQvZwULe2p/NW7cMJvXjud6ogTL7UtVrLZGBy/YyovZK0iSEHb02KlrfPvcQl2/qB1I6fNNEIjR4cS79J3Rh7RM9CO23sAvgUAOXlFyLZp/t5+hzK+6evPbmySXX69zuryScx8VllxNhJIm/tPbwhtkxX8Tz/jvrvmex7y/bIl+EY9JKsiG0r8y54Toc+l0eswocrrn/aur+z0xvqGOMip7nhGsZUiXA6y2+xF5q0XPxeYQ/CNLg+924NUJYQw7SukkGfV+/ivRPEw9drgqp8IdqlFJK/Z+jv8eulFI+o8GulFI+o8GulFI+o8GulFI+o8GulFI+o8GulFI+o8GulFI+o8GulFI+o8GulFI+o8GulFI+o8GulFI+o8GulFI+o8GulFI+o8GulFI+o8GulFI+o8GulFI+o8GulFI+o8GulFI+o8GulFI+o8GulFI+o8GulFI+o8GulFI+o8GulFI+879UiBEza4EYmwAAAABJRU5ErkJggg==\n",
      "text/plain": [
       "<matplotlib.figure.Figure at 0x241140494a8>"
      ]
     },
     "metadata": {},
     "output_type": "display_data"
    }
   ],
   "source": [
    "def open_load_pickle(data_folders, no_of_images, force=False):\n",
    "  folder = data_folders[random.randint(0,9)]\n",
    "  set_filename = folder + '.pickle'\n",
    "  if os.path.exists(set_filename) and not force:\n",
    "      # You may override by setting force=True.\n",
    "      try:\n",
    "        with open(set_filename, 'rb') as f:\n",
    "          dataset_loaded = pickle.load(f)\n",
    "      except Exception as e:\n",
    "        print('Unable to load', set_filename, ':', e)\n",
    "  \n",
    "  else:\n",
    "        print('%s not able to locate.' % set_filename)\n",
    "  \n",
    "  plt.suptitle(set_filename)\n",
    "  for i, img in enumerate(random.sample(list(dataset_loaded), no_of_images)):\n",
    "    plt.subplot(1, no_of_images, i+1)\n",
    "    plt.axis('off')\n",
    "    plt.imshow(img)\n",
    "\n",
    "open_load_pickle(test_folders, 20)"
   ]
  },
  {
   "cell_type": "code",
   "execution_count": 320,
   "metadata": {},
   "outputs": [
    {
     "data": {
      "image/png": "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\n",
      "text/plain": [
       "<matplotlib.figure.Figure at 0x24114166898>"
      ]
     },
     "metadata": {},
     "output_type": "display_data"
    }
   ],
   "source": [
    "open_load_pickle(train_folders, 20)"
   ]
  },
  {
   "cell_type": "code",
   "execution_count": 321,
   "metadata": {},
   "outputs": [
    {
     "name": "stdout",
     "output_type": "stream",
     "text": [
      "Class A : 52909\n",
      "Class B : 52911\n",
      "Class C : 52912\n",
      "Class D : 52911\n",
      "Class E : 52912\n",
      "Class F : 52912\n",
      "Class G : 52912\n",
      "Class H : 52912\n",
      "Class I : 52912\n",
      "Class J : 52911\n"
     ]
    }
   ],
   "source": [
    "def load_dataset(data_folders, force=False):\n",
    "    for folder in data_folders:\n",
    "      set_filename = folder + '.pickle'\n",
    "      if os.path.exists(set_filename) and not force:\n",
    "          # You may override by setting force=True.\n",
    "          try:\n",
    "            with open(set_filename, 'rb') as f:\n",
    "              dataset_loaded = pickle.load(f)\n",
    "          except Exception as e:\n",
    "            print('Unable to load', set_filename, ':', e)\n",
    "\n",
    "      else:\n",
    "            print('%s not able to locate.' % set_filename)\n",
    "\n",
    "      dataset_len = len(list(dataset_loaded))\n",
    "      print('Class ' + ''.join(folder)[-1] + ' : ' + str(dataset_len))\n",
    "\n",
    "load_dataset(train_folders)"
   ]
  },
  {
   "cell_type": "code",
   "execution_count": 322,
   "metadata": {},
   "outputs": [
    {
     "name": "stdout",
     "output_type": "stream",
     "text": [
      "Class A : 1872\n",
      "Class B : 1873\n",
      "Class C : 1873\n",
      "Class D : 1873\n",
      "Class E : 1873\n",
      "Class F : 1872\n",
      "Class G : 1872\n",
      "Class H : 1872\n",
      "Class I : 1872\n",
      "Class J : 1872\n"
     ]
    }
   ],
   "source": [
    "load_dataset(test_folders)"
   ]
  },
  {
   "cell_type": "code",
   "execution_count": 323,
   "metadata": {},
   "outputs": [
    {
     "name": "stdout",
     "output_type": "stream",
     "text": [
      "Training: (200000, 28, 28) (200000,)\n",
      "Validation: (10000, 28, 28) (10000,)\n",
      "Testing: (10000, 28, 28) (10000,)\n"
     ]
    }
   ],
   "source": [
    "def make_arrays(nb_rows, img_size):\n",
    "  if nb_rows:\n",
    "    dataset = np.ndarray((nb_rows, img_size, img_size), dtype=np.float32)\n",
    "    labels = np.ndarray(nb_rows, dtype=np.int32)\n",
    "  else:\n",
    "    dataset, labels = None, None\n",
    "  return dataset, labels\n",
    "\n",
    "def merge_datasets(pickle_files, train_size, valid_size=0):\n",
    "  num_classes = len(pickle_files)\n",
    "  valid_dataset, valid_labels = make_arrays(valid_size, image_size)\n",
    "  train_dataset, train_labels = make_arrays(train_size, image_size)\n",
    "  vsize_per_class = valid_size // num_classes\n",
    "  tsize_per_class = train_size // num_classes\n",
    "    \n",
    "  start_v, start_t = 0, 0\n",
    "  end_v, end_t = vsize_per_class, tsize_per_class\n",
    "  end_l = vsize_per_class+tsize_per_class\n",
    "  for label, pickle_file in enumerate(pickle_files):       \n",
    "    try:\n",
    "      with open(pickle_file, 'rb') as f:\n",
    "        letter_set = pickle.load(f)\n",
    "        # let's shuffle the letters to have random validation and training set\n",
    "        np.random.shuffle(letter_set)\n",
    "        if valid_dataset is not None:\n",
    "          valid_letter = letter_set[:vsize_per_class, :, :]\n",
    "          valid_dataset[start_v:end_v, :, :] = valid_letter\n",
    "          valid_labels[start_v:end_v] = label\n",
    "          start_v += vsize_per_class\n",
    "          end_v += vsize_per_class\n",
    "                    \n",
    "        train_letter = letter_set[vsize_per_class:end_l, :, :]\n",
    "        train_dataset[start_t:end_t, :, :] = train_letter\n",
    "        train_labels[start_t:end_t] = label\n",
    "        start_t += tsize_per_class\n",
    "        end_t += tsize_per_class\n",
    "    except Exception as e:\n",
    "      print('Unable to process data from', pickle_file, ':', e)\n",
    "      raise\n",
    "    \n",
    "  return valid_dataset, valid_labels, train_dataset, train_labels\n",
    "            \n",
    "            \n",
    "train_size = 200000\n",
    "valid_size = 10000\n",
    "test_size = 10000\n",
    "\n",
    "valid_dataset, valid_labels, train_dataset, train_labels = merge_datasets(\n",
    "  train_datasets, train_size, valid_size)\n",
    "_, _, test_dataset, test_labels = merge_datasets(test_datasets, test_size)\n",
    "\n",
    "print('Training:', train_dataset.shape, train_labels.shape)\n",
    "print('Validation:', valid_dataset.shape, valid_labels.shape)\n",
    "print('Testing:', test_dataset.shape, test_labels.shape)"
   ]
  },
  {
   "cell_type": "code",
   "execution_count": 324,
   "metadata": {},
   "outputs": [],
   "source": [
    "def randomize(dataset, labels):\n",
    "  permutation = np.random.permutation(labels.shape[0])\n",
    "  shuffled_dataset = dataset[permutation,:,:]\n",
    "  shuffled_labels = labels[permutation]\n",
    "  return shuffled_dataset, shuffled_labels\n",
    "train_dataset, train_labels = randomize(train_dataset, train_labels)\n",
    "test_dataset, test_labels = randomize(test_dataset, test_labels)\n",
    "valid_dataset, valid_labels = randomize(valid_dataset, valid_labels)"
   ]
  },
  {
   "cell_type": "code",
   "execution_count": 325,
   "metadata": {},
   "outputs": [
    {
     "data": {
      "image/png": "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\n",
      "text/plain": [
       "<matplotlib.figure.Figure at 0x24121f622e8>"
      ]
     },
     "metadata": {},
     "output_type": "display_data"
    }
   ],
   "source": [
    "def check_corresponding_class(dataset,labels,items_to_check,index_start):\n",
    "    index_end = index_start + items_to_check\n",
    "    for i,img in enumerate(dataset[index_start:index_end]):\n",
    "        \n",
    "        plt.subplot(1, items_to_check, i+1)\n",
    "        plt.axis('off')\n",
    "        plt.imshow(img)\n",
    "        plt.title(alphabets_[labels[index_start]])\n",
    "        index_start += 1\n",
    "\n",
    "check_corresponding_class(train_dataset,train_labels,10, 1600)"
   ]
  },
  {
   "cell_type": "code",
   "execution_count": 326,
   "metadata": {},
   "outputs": [],
   "source": [
    "pickle_file = os.path.join(data_root, 'notMNIST.pickle')\n",
    "\n",
    "try:\n",
    "  f = open(pickle_file, 'wb')\n",
    "  save = {\n",
    "    'train_dataset': train_dataset,\n",
    "    'train_labels': train_labels,\n",
    "    'valid_dataset': valid_dataset,\n",
    "    'valid_labels': valid_labels,\n",
    "    'test_dataset': test_dataset,\n",
    "    'test_labels': test_labels,\n",
    "    }\n",
    "  pickle.dump(save, f, pickle.HIGHEST_PROTOCOL)\n",
    "  f.close()\n",
    "except Exception as e:\n",
    "  print('Unable to save data to', pickle_file, ':', e)\n",
    "  raise"
   ]
  },
  {
   "cell_type": "code",
   "execution_count": 327,
   "metadata": {},
   "outputs": [
    {
     "name": "stdout",
     "output_type": "stream",
     "text": [
      "Compressed pickle size: 690800506\n"
     ]
    }
   ],
   "source": [
    "statinfo  = os.stat(pickle_file)\n",
    "print('Compressed pickle size:', statinfo.st_size)"
   ]
  },
  {
   "cell_type": "code",
   "execution_count": 328,
   "metadata": {},
   "outputs": [
    {
     "name": "stdout",
     "output_type": "stream",
     "text": [
      "Wall time: 4.9 s\n",
      "Number of overlaps: 24\n"
     ]
    }
   ],
   "source": [
    "import hashlib\n",
    "def extract_overlap_hash_where(dataset_1, dataset_2):\n",
    "  dataset_hash_1 = np.array([hashlib.sha256(img).hexdigest() for img in dataset_1])\n",
    "  dataset_hash_2 = np.array([hashlib.sha256(img).hexdigest() for img in dataset_2])\n",
    "  overlap = {}\n",
    "  for i, hash1 in enumerate(dataset_hash_1):\n",
    "    duplicates = np.where(dataset_hash_2 == hash1)\n",
    "    if len(duplicates[0]):\n",
    "      overlap[i] = duplicates[0]\n",
    "  return overlap\n",
    "\n",
    "%time  overlap_test_train  = extract_overlap_hash_where(test_dataset[:200], train_dataset)\n",
    "print('Number of overlaps:', len(overlap_test_train.keys()))"
   ]
  },
  {
   "cell_type": "code",
   "execution_count": 329,
   "metadata": {},
   "outputs": [
    {
     "name": "stdout",
     "output_type": "stream",
     "text": [
      "Wall time: 1min 25s\n",
      "Overlapping images removed:  1324\n"
     ]
    }
   ],
   "source": [
    "def sanetize(dataset_1, dataset_2, labels_1):\n",
    "  dataset_hash_1 = np.array([hashlib.sha256(img).hexdigest() for img in dataset_1])\n",
    "  dataset_hash_2 = np.array([hashlib.sha256(img).hexdigest() for img in dataset_2])\n",
    "  overlap = [] # list of indexes\n",
    "  for i, hash1 in enumerate(dataset_hash_1):\n",
    "    duplicates = np.where(dataset_hash_2 == hash1)\n",
    "    if len(duplicates[0]):\n",
    "      overlap.append(i) \n",
    "  return np.delete(dataset_1, overlap, 0), np.delete(labels_1, overlap, None)\n",
    "\n",
    "%time test_dataset_sanit, test_labels_sanit = sanetize(test_dataset, train_dataset, test_labels)\n",
    "print('Overlapping images removed: ', len(test_dataset) - len(test_dataset_sanit))"
   ]
  },
  {
   "cell_type": "code",
   "execution_count": 330,
   "metadata": {},
   "outputs": [
    {
     "name": "stdout",
     "output_type": "stream",
     "text": [
      "Wall time: 1min 28s\n",
      "Overlapping images removed:  1067\n"
     ]
    }
   ],
   "source": [
    "%time valid_dataset_sanit, valid_labels_sanit = sanetize(valid_dataset, train_dataset, valid_labels)\n",
    "print('Overlapping images removed: ', len(valid_dataset) - len(valid_dataset_sanit))"
   ]
  },
  {
   "cell_type": "code",
   "execution_count": 331,
   "metadata": {},
   "outputs": [],
   "source": [
    "pickle_file_sanit = 'notMNIST_sanit.pickle'\n",
    "\n",
    "try:\n",
    "  f = open(pickle_file_sanit, 'wb')\n",
    "  save = {\n",
    "    'train_dataset': train_dataset,\n",
    "    'train_labels': train_labels,\n",
    "    'valid_dataset': valid_dataset_sanit,\n",
    "    'valid_labels': valid_labels_sanit,\n",
    "    'test_dataset': test_dataset_sanit,\n",
    "    'test_labels': test_labels_sanit,\n",
    "    }\n",
    "  pickle.dump(save, f, pickle.HIGHEST_PROTOCOL)\n",
    "  f.close()\n",
    "except Exception as e:\n",
    "  print('Unable to save data to', pickle_file, ':', e)\n",
    "  raise"
   ]
  },
  {
   "cell_type": "code",
   "execution_count": 332,
   "metadata": {},
   "outputs": [
    {
     "name": "stdout",
     "output_type": "stream",
     "text": [
      "Compressed pickle size: 683292766\n"
     ]
    }
   ],
   "source": [
    "statinfo = os.stat(pickle_file_sanit)\n",
    "print('Compressed pickle size:', statinfo.st_size)"
   ]
  },
  {
   "cell_type": "code",
   "execution_count": 333,
   "metadata": {},
   "outputs": [
    {
     "name": "stdout",
     "output_type": "stream",
     "text": [
      "Wall time: 33min 19s\n",
      "Model Accuracy:\n"
     ]
    },
    {
     "data": {
      "text/plain": [
       "0.83132"
      ]
     },
     "execution_count": 333,
     "metadata": {},
     "output_type": "execute_result"
    }
   ],
   "source": [
    "sample_size = len(train_dataset)\n",
    "regr = LogisticRegression(solver ='sag')\n",
    "X_train = train_dataset[:sample_size].reshape(sample_size, 784)\n",
    "y_train = train_labels[:sample_size]\n",
    "%time regr.fit(X_train, y_train)\n",
    "print('Model Accuracy:')\n",
    "regr.score(X_train, y_train)"
   ]
  },
  {
   "cell_type": "code",
   "execution_count": 334,
   "metadata": {},
   "outputs": [
    {
     "name": "stdout",
     "output_type": "stream",
     "text": [
      "With duplicates : 0.8244\n",
      "Without duplicates : 0.8148438374566215\n"
     ]
    }
   ],
   "source": [
    "X_valid = valid_dataset.reshape(valid_dataset.shape[0], 784)\n",
    "y_valid = valid_labels\n",
    "pred_labels = regr.predict(X_valid)\n",
    "print('With duplicates : ' + str(regr.score(X_valid, y_valid)))\n",
    "\n",
    "X_valid_wd = valid_dataset_sanit.reshape(valid_dataset_sanit.shape[0], 784)\n",
    "y_valid_wd = valid_labels_sanit\n",
    "pred_labels = regr.predict(X_valid_wd)\n",
    "print('Without duplicates : ' + str(regr.score(X_valid_wd, y_valid_wd)))"
   ]
  },
  {
   "cell_type": "code",
   "execution_count": 335,
   "metadata": {},
   "outputs": [
    {
     "name": "stdout",
     "output_type": "stream",
     "text": [
      "With duplicates : 0.8932\n",
      "Without duplicates : 0.8828953434762563\n"
     ]
    }
   ],
   "source": [
    "X_test = test_dataset.reshape(test_dataset.shape[0], 784)\n",
    "y_test = test_labels\n",
    "pred_labels = regr.predict(X_test)\n",
    "print('With duplicates : ' + str(regr.score(X_test, y_test)))\n",
    "\n",
    "X_test_wd = test_dataset_sanit.reshape(test_dataset_sanit.shape[0], 784)\n",
    "y_test_wd = test_labels_sanit\n",
    "pred_labels = regr.predict(X_test_wd)\n",
    "print('Without duplicates : ' + str(regr.score(X_test_wd, y_test_wd)))"
   ]
  },
  {
   "cell_type": "code",
   "execution_count": 342,
   "metadata": {},
   "outputs": [
    {
     "data": {
      "image/png": "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\n",
      "text/plain": [
       "<matplotlib.figure.Figure at 0x24113d70898>"
      ]
     },
     "metadata": {},
     "output_type": "display_data"
    }
   ],
   "source": [
    "check_corresponding_class(test_dataset_sanit,pred_labels,10, 1200)"
   ]
  }
 ],
 "metadata": {
  "kernelspec": {
   "display_name": "Python 3",
   "language": "python",
   "name": "python3"
  },
  "language_info": {
   "codemirror_mode": {
    "name": "ipython",
    "version": 3
   },
   "file_extension": ".py",
   "mimetype": "text/x-python",
   "name": "python",
   "nbconvert_exporter": "python",
   "pygments_lexer": "ipython3",
   "version": "3.6.4"
  }
 },
 "nbformat": 4,
 "nbformat_minor": 2
}
